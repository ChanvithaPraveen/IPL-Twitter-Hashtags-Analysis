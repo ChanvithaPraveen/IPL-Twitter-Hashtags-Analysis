{
 "cells": [
  {
   "cell_type": "code",
   "execution_count": 1,
   "id": "initial_id",
   "metadata": {
    "collapsed": true,
    "ExecuteTime": {
     "end_time": "2023-11-25T10:34:41.838153400Z",
     "start_time": "2023-11-25T10:34:39.392245500Z"
    }
   },
   "outputs": [],
   "source": [
    "import joblib\n",
    "import pandas as pd\n",
    "from sklearn.model_selection import train_test_split\n",
    "from sklearn.linear_model import LinearRegression\n",
    "from sklearn.metrics import mean_squared_error\n",
    "import datetime\n",
    "import numpy as np\n",
    "from fastapi import FastAPI, Query\n",
    "from sklearn.preprocessing import PolynomialFeatures"
   ]
  },
  {
   "cell_type": "code",
   "execution_count": 2,
   "outputs": [],
   "source": [
    "# Load your dataset (assuming it's in a CSV file)\n",
    "data = pd.read_csv(\"unique_dates_cities_df.csv\")\n",
    "\n",
    "# data = data[:10000]\n",
    "data = data.drop(\"Unnamed: 0\", axis=1)\n",
    "\n",
    "# Preprocessing\n",
    "# Assuming your dataset has columns: 'datetime', 'city', 'count'\n",
    "# Convert the 'datetime' column to a proper datetime format\n",
    "data['datetime'] = pd.to_datetime(data['datetime'])\n",
    "\n",
    "# Extract relevant features from the datetime column\n",
    "data['year'] = data['datetime'].dt.year\n",
    "data['month'] = data['datetime'].dt.month\n",
    "data['day'] = data['datetime'].dt.day\n",
    "data['day_of_week'] = data['datetime'].dt.dayofweek  # Monday = 0, Sunday = 6\n",
    "\n",
    "# One-hot encode the 'city' column\n",
    "data = pd.get_dummies(data, columns=['city'], prefix='city')\n",
    "\n",
    "# Split the data\n",
    "X = data.drop([\"count\", \"datetime\"], axis=1)  # Features\n",
    "y = data[\"count\"]  # Target\n",
    "X_train, X_test, y_train, y_test = train_test_split(X, y, test_size=0.2, random_state=42)\n"
   ],
   "metadata": {
    "collapsed": false,
    "ExecuteTime": {
     "end_time": "2023-11-25T10:34:48.858054200Z",
     "start_time": "2023-11-25T10:34:45.474150700Z"
    }
   },
   "id": "d74b9ff2e4bfdf3a"
  },
  {
   "cell_type": "code",
   "execution_count": 3,
   "outputs": [
    {
     "data": {
      "text/plain": "(66050, 3584)"
     },
     "execution_count": 3,
     "metadata": {},
     "output_type": "execute_result"
    }
   ],
   "source": [
    "data.shape"
   ],
   "metadata": {
    "collapsed": false,
    "ExecuteTime": {
     "end_time": "2023-11-25T10:34:49.513418700Z",
     "start_time": "2023-11-25T10:34:49.500169900Z"
    }
   },
   "id": "1dd5881d19a96a36"
  },
  {
   "cell_type": "code",
   "execution_count": 11,
   "outputs": [],
   "source": [
    "# def polynomial_model_training(degree):\n",
    "#     # Generate polynomial features\n",
    "#     poly = PolynomialFeatures(degree=degree)\n",
    "#     X_train_poly = poly.fit_transform(X_train)\n",
    "#     X_test_poly = poly.transform(X_test)\n",
    "# \n",
    "#     # Model Training\n",
    "#     model = LinearRegression()\n",
    "#     model.fit(X_train_poly, y_train)\n",
    "# \n",
    "#     # Model Evaluation\n",
    "#     y_pred = model.predict(X_test_poly)\n",
    "#     mse = mean_squared_error(y_test, y_pred)\n",
    "#     rmse = np.sqrt(mse)\n",
    "#     print(f\"Root Mean Squared Error (Polynomial Degree {degree}): {rmse}\")\n"
   ],
   "metadata": {
    "collapsed": false,
    "ExecuteTime": {
     "end_time": "2023-11-25T09:28:53.614511100Z",
     "start_time": "2023-11-25T09:28:53.604996100Z"
    }
   },
   "id": "1d8a758f5032e2fc"
  },
  {
   "cell_type": "code",
   "execution_count": 5,
   "outputs": [
    {
     "name": "stderr",
     "output_type": "stream",
     "text": [
      "Training: 100%|██████████| 100/100 [6:49:41<00:00, 245.81s/it] \n"
     ]
    },
    {
     "name": "stdout",
     "output_type": "stream",
     "text": [
      "Mean Squared Error: 982.8303136657373\n"
     ]
    }
   ],
   "source": [
    "from sklearn.model_selection import train_test_split\n",
    "from sklearn.ensemble import GradientBoostingRegressor\n",
    "from sklearn.metrics import mean_squared_error\n",
    "from sklearn.datasets import make_regression\n",
    "from tqdm import tqdm\n",
    "\n",
    "# Initialize the Gradient Boosting Regressor\n",
    "model = GradientBoostingRegressor(n_estimators=100, learning_rate=0.1, max_depth=3, random_state=42)\n",
    "\n",
    "# Train the model with a progress bar\n",
    "n_iterations = 100  # Number of training iterations\n",
    "with tqdm(total=n_iterations, desc=\"Training\") as pbar:\n",
    "    for _ in range(n_iterations):\n",
    "        model.fit(X_train, y_train)\n",
    "        # Update the progress bar\n",
    "        pbar.update(1)\n",
    "\n",
    "joblib.dump(model, 'models/randomForest_regression_model.pkl')\n",
    "\n",
    "# Make predictions on the test set\n",
    "y_pred = model.predict(X_test)\n",
    "\n",
    "# Evaluate the model\n",
    "mse = mean_squared_error(y_test, y_pred)\n",
    "print(f'Mean Squared Error: {mse}')"
   ],
   "metadata": {
    "collapsed": false,
    "ExecuteTime": {
     "end_time": "2023-11-25T17:25:57.707139200Z",
     "start_time": "2023-11-25T10:36:15.279003900Z"
    }
   },
   "id": "96fd9b4a0fc9d64d"
  },
  {
   "cell_type": "code",
   "execution_count": 12,
   "outputs": [
    {
     "name": "stderr",
     "output_type": "stream",
     "text": [
      "Training Progress: 100%|██████████| 10/10 [00:25<00:00,  2.51s/it]\n"
     ]
    },
    {
     "name": "stdout",
     "output_type": "stream",
     "text": [
      "Root Mean Squared Error with RandomForestRegressor: 0.8660254037844386\n"
     ]
    }
   ],
   "source": [
    "from sklearn.ensemble import RandomForestRegressor\n",
    "from sklearn.metrics import mean_squared_error\n",
    "from tqdm import tqdm\n",
    "import numpy as np\n",
    "\n",
    "def model_training(X_train, y_train, X_test, y_test):\n",
    "    # Create a RandomForestRegressor\n",
    "    regressor = RandomForestRegressor(n_estimators=1000, random_state=42)\n",
    "\n",
    "    # Model Training with Progress Bar\n",
    "    epochs = 10  # Set the number of epochs or iterations\n",
    "    with tqdm(total=epochs, desc=\"Training Progress\") as pbar:\n",
    "        for epoch in range(epochs):\n",
    "            regressor.fit(X_train, y_train)\n",
    "            pbar.update(1)  # Update the progress bar\n",
    "\n",
    "    joblib.dump(regressor, 'models/randomForest_regression_model.pkl')\n",
    "    \n",
    "    # Model Evaluation\n",
    "    y_pred = regressor.predict(X_test)\n",
    "    mse = mean_squared_error(y_test, y_pred)\n",
    "    rmse = np.sqrt(mse)\n",
    "    print(f\"Root Mean Squared Error with RandomForestRegressor: {rmse}\")\n",
    "\n",
    "# Replace X_train, y_train, X_test, y_test with your actual data\n",
    "model_training(X_train, y_train, X_test, y_test)"
   ],
   "metadata": {
    "collapsed": false,
    "ExecuteTime": {
     "end_time": "2023-11-25T09:29:20.023418800Z",
     "start_time": "2023-11-25T09:28:54.513786400Z"
    }
   },
   "id": "a91d5e5b31743559"
  },
  {
   "cell_type": "code",
   "execution_count": null,
   "outputs": [],
   "source": [],
   "metadata": {
    "collapsed": false,
    "ExecuteTime": {
     "end_time": "2023-11-25T08:17:15.707892900Z",
     "start_time": "2023-11-25T08:17:15.707892900Z"
    }
   },
   "id": "d6b9f5697d8a3dd2"
  },
  {
   "cell_type": "code",
   "execution_count": 9,
   "outputs": [
    {
     "ename": "NameError",
     "evalue": "name 'model' is not defined",
     "output_type": "error",
     "traceback": [
      "\u001B[1;31m---------------------------------------------------------------------------\u001B[0m",
      "\u001B[1;31mNameError\u001B[0m                                 Traceback (most recent call last)",
      "Cell \u001B[1;32mIn[9], line 5\u001B[0m\n\u001B[0;32m      1\u001B[0m \u001B[38;5;28;01mdef\u001B[39;00m \u001B[38;5;21msave_model\u001B[39m():\n\u001B[0;32m      2\u001B[0m     \u001B[38;5;66;03m# Save the model to a file\u001B[39;00m\n\u001B[0;32m      3\u001B[0m     joblib\u001B[38;5;241m.\u001B[39mdump(model, \u001B[38;5;124m'\u001B[39m\u001B[38;5;124mrandomForest_regression_model.pkl\u001B[39m\u001B[38;5;124m'\u001B[39m)\n\u001B[1;32m----> 5\u001B[0m \u001B[43msave_model\u001B[49m\u001B[43m(\u001B[49m\u001B[43m)\u001B[49m\n",
      "Cell \u001B[1;32mIn[9], line 3\u001B[0m, in \u001B[0;36msave_model\u001B[1;34m()\u001B[0m\n\u001B[0;32m      1\u001B[0m \u001B[38;5;28;01mdef\u001B[39;00m \u001B[38;5;21msave_model\u001B[39m():\n\u001B[0;32m      2\u001B[0m     \u001B[38;5;66;03m# Save the model to a file\u001B[39;00m\n\u001B[1;32m----> 3\u001B[0m     joblib\u001B[38;5;241m.\u001B[39mdump(\u001B[43mmodel\u001B[49m, \u001B[38;5;124m'\u001B[39m\u001B[38;5;124mrandomForest_regression_model.pkl\u001B[39m\u001B[38;5;124m'\u001B[39m)\n",
      "\u001B[1;31mNameError\u001B[0m: name 'model' is not defined"
     ]
    }
   ],
   "source": [
    "def save_model():\n",
    "    # Save the model to a file\n",
    "    joblib.dump(regressor, 'randomForest_regression_model.pkl')\n",
    "\n",
    "save_model()"
   ],
   "metadata": {
    "collapsed": false,
    "ExecuteTime": {
     "end_time": "2023-11-25T09:22:45.993757800Z",
     "start_time": "2023-11-25T09:22:45.917029900Z"
    }
   },
   "id": "498b6a5d17bb8f33"
  },
  {
   "cell_type": "code",
   "execution_count": null,
   "outputs": [],
   "source": [
    "# Load the saved model from the file\n",
    "model = joblib.load('models/polynomial_regression_model.pkl')"
   ],
   "metadata": {
    "collapsed": false,
    "ExecuteTime": {
     "start_time": "2023-11-25T08:17:15.707892900Z"
    }
   },
   "id": "6ada1fa69566280a"
  }
 ],
 "metadata": {
  "kernelspec": {
   "display_name": "Python 3",
   "language": "python",
   "name": "python3"
  },
  "language_info": {
   "codemirror_mode": {
    "name": "ipython",
    "version": 2
   },
   "file_extension": ".py",
   "mimetype": "text/x-python",
   "name": "python",
   "nbconvert_exporter": "python",
   "pygments_lexer": "ipython2",
   "version": "2.7.6"
  }
 },
 "nbformat": 4,
 "nbformat_minor": 5
}
